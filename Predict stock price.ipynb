{
 "cells": [
  {
   "cell_type": "code",
   "execution_count": 77,
   "metadata": {},
   "outputs": [],
   "source": [
    "import math\n",
    "import numpy as np\n",
    "import pandas as pd\n",
    "from sklearn.preprocessing import MinMaxScaler\n",
    "from tensorflow.keras.models import Sequential\n",
    "from tensorflow.keras.layers import Dense, LSTM\n",
    "import matplotlib.pyplot as plt\n",
    "# import yfinance as yf\n",
    "plt.style.use('fivethirtyeight')\n"
   ]
  },
  {
   "attachments": {},
   "cell_type": "markdown",
   "metadata": {},
   "source": [
    "# 1, Load data "
   ]
  },
  {
   "cell_type": "code",
   "execution_count": 78,
   "metadata": {},
   "outputs": [
    {
     "data": {
      "text/html": [
       "<div>\n",
       "<style scoped>\n",
       "    .dataframe tbody tr th:only-of-type {\n",
       "        vertical-align: middle;\n",
       "    }\n",
       "\n",
       "    .dataframe tbody tr th {\n",
       "        vertical-align: top;\n",
       "    }\n",
       "\n",
       "    .dataframe thead th {\n",
       "        text-align: right;\n",
       "    }\n",
       "</style>\n",
       "<table border=\"1\" class=\"dataframe\">\n",
       "  <thead>\n",
       "    <tr style=\"text-align: right;\">\n",
       "      <th></th>\n",
       "      <th>Date</th>\n",
       "      <th>Close</th>\n",
       "      <th>THAY ĐỔI</th>\n",
       "      <th>%THAY ĐỔI</th>\n",
       "      <th>MỞ</th>\n",
       "      <th>CAO</th>\n",
       "      <th>THẤP</th>\n",
       "      <th>GIÁ TB</th>\n",
       "      <th>KL KHỚP</th>\n",
       "      <th>GT KHỚP</th>\n",
       "      <th>KL THỎA THUẬN</th>\n",
       "      <th>GT THỎA THUẬN</th>\n",
       "      <th>TỔNG KHỐI LƯỢNG</th>\n",
       "      <th>TỔNG GIÁ TRỊ</th>\n",
       "      <th>Unnamed: 14</th>\n",
       "    </tr>\n",
       "  </thead>\n",
       "  <tbody>\n",
       "    <tr>\n",
       "      <th>0</th>\n",
       "      <td>2007-11-15</td>\n",
       "      <td>2641.884287</td>\n",
       "      <td>127000</td>\n",
       "      <td>0.000000</td>\n",
       "      <td>2662.686493</td>\n",
       "      <td>2704.291003</td>\n",
       "      <td>2267.443995</td>\n",
       "      <td>125542.550504</td>\n",
       "      <td>1306330</td>\n",
       "      <td>164000000000</td>\n",
       "      <td>0</td>\n",
       "      <td>0</td>\n",
       "      <td>1306330</td>\n",
       "      <td>164000000000</td>\n",
       "      <td>NaN</td>\n",
       "    </tr>\n",
       "    <tr>\n",
       "      <th>1</th>\n",
       "      <td>2007-11-16</td>\n",
       "      <td>2517.070779</td>\n",
       "      <td>-6000</td>\n",
       "      <td>-0.047300</td>\n",
       "      <td>2517.070826</td>\n",
       "      <td>2517.070779</td>\n",
       "      <td>2517.070779</td>\n",
       "      <td>121001.166955</td>\n",
       "      <td>248510</td>\n",
       "      <td>30070000000</td>\n",
       "      <td>0</td>\n",
       "      <td>0</td>\n",
       "      <td>248510</td>\n",
       "      <td>30070000000</td>\n",
       "      <td>NaN</td>\n",
       "    </tr>\n",
       "    <tr>\n",
       "      <th>2</th>\n",
       "      <td>2007-11-19</td>\n",
       "      <td>2392.257402</td>\n",
       "      <td>-6000</td>\n",
       "      <td>-0.049600</td>\n",
       "      <td>2392.257396</td>\n",
       "      <td>2392.257402</td>\n",
       "      <td>2392.257402</td>\n",
       "      <td>114998.339973</td>\n",
       "      <td>120480</td>\n",
       "      <td>13855000000</td>\n",
       "      <td>0</td>\n",
       "      <td>0</td>\n",
       "      <td>120480</td>\n",
       "      <td>13855000000</td>\n",
       "      <td>NaN</td>\n",
       "    </tr>\n",
       "    <tr>\n",
       "      <th>3</th>\n",
       "      <td>2007-11-20</td>\n",
       "      <td>2288.246210</td>\n",
       "      <td>-5000</td>\n",
       "      <td>-0.043500</td>\n",
       "      <td>2288.246205</td>\n",
       "      <td>2288.246210</td>\n",
       "      <td>2288.246210</td>\n",
       "      <td>109998.296713</td>\n",
       "      <td>58710</td>\n",
       "      <td>6458000000</td>\n",
       "      <td>50000</td>\n",
       "      <td>5500000000</td>\n",
       "      <td>108710</td>\n",
       "      <td>11958000000</td>\n",
       "      <td>NaN</td>\n",
       "    </tr>\n",
       "    <tr>\n",
       "      <th>4</th>\n",
       "      <td>2007-11-21</td>\n",
       "      <td>2371.455085</td>\n",
       "      <td>4000</td>\n",
       "      <td>0.036300</td>\n",
       "      <td>2184.235014</td>\n",
       "      <td>2371.455085</td>\n",
       "      <td>2184.234946</td>\n",
       "      <td>107721.678936</td>\n",
       "      <td>728080</td>\n",
       "      <td>78430000000</td>\n",
       "      <td>0</td>\n",
       "      <td>0</td>\n",
       "      <td>728080</td>\n",
       "      <td>78430000000</td>\n",
       "      <td>NaN</td>\n",
       "    </tr>\n",
       "    <tr>\n",
       "      <th>...</th>\n",
       "      <td>...</td>\n",
       "      <td>...</td>\n",
       "      <td>...</td>\n",
       "      <td>...</td>\n",
       "      <td>...</td>\n",
       "      <td>...</td>\n",
       "      <td>...</td>\n",
       "      <td>...</td>\n",
       "      <td>...</td>\n",
       "      <td>...</td>\n",
       "      <td>...</td>\n",
       "      <td>...</td>\n",
       "      <td>...</td>\n",
       "      <td>...</td>\n",
       "      <td>...</td>\n",
       "    </tr>\n",
       "    <tr>\n",
       "      <th>3953</th>\n",
       "      <td>2023-09-26</td>\n",
       "      <td>26200.000000</td>\n",
       "      <td>200</td>\n",
       "      <td>0.007692</td>\n",
       "      <td>25850.000000</td>\n",
       "      <td>26800.000000</td>\n",
       "      <td>25850.000000</td>\n",
       "      <td>26351.757989</td>\n",
       "      <td>30849974</td>\n",
       "      <td>812951048800</td>\n",
       "      <td>195000</td>\n",
       "      <td>5421000000</td>\n",
       "      <td>31044974</td>\n",
       "      <td>818372048800</td>\n",
       "      <td>NaN</td>\n",
       "    </tr>\n",
       "    <tr>\n",
       "      <th>3954</th>\n",
       "      <td>2023-09-27</td>\n",
       "      <td>26500.000000</td>\n",
       "      <td>300</td>\n",
       "      <td>0.011450</td>\n",
       "      <td>26150.000000</td>\n",
       "      <td>26700.000000</td>\n",
       "      <td>26150.000000</td>\n",
       "      <td>26397.019537</td>\n",
       "      <td>20332879</td>\n",
       "      <td>536727404200</td>\n",
       "      <td>1961801</td>\n",
       "      <td>51596184400</td>\n",
       "      <td>22294680</td>\n",
       "      <td>588323588600</td>\n",
       "      <td>NaN</td>\n",
       "    </tr>\n",
       "    <tr>\n",
       "      <th>3955</th>\n",
       "      <td>2023-09-28</td>\n",
       "      <td>26600.000000</td>\n",
       "      <td>100</td>\n",
       "      <td>0.003774</td>\n",
       "      <td>26600.000000</td>\n",
       "      <td>26850.000000</td>\n",
       "      <td>26200.000000</td>\n",
       "      <td>26559.160574</td>\n",
       "      <td>16571772</td>\n",
       "      <td>440132353550</td>\n",
       "      <td>900000</td>\n",
       "      <td>23640000000</td>\n",
       "      <td>17471772</td>\n",
       "      <td>463772353550</td>\n",
       "      <td>NaN</td>\n",
       "    </tr>\n",
       "    <tr>\n",
       "      <th>3956</th>\n",
       "      <td>2023-09-29</td>\n",
       "      <td>26300.000000</td>\n",
       "      <td>-300</td>\n",
       "      <td>-0.011278</td>\n",
       "      <td>26800.000000</td>\n",
       "      <td>26850.000000</td>\n",
       "      <td>26250.000000</td>\n",
       "      <td>26450.328262</td>\n",
       "      <td>15025050</td>\n",
       "      <td>397417504650</td>\n",
       "      <td>1223000</td>\n",
       "      <td>32348350000</td>\n",
       "      <td>16248050</td>\n",
       "      <td>429765854650</td>\n",
       "      <td>NaN</td>\n",
       "    </tr>\n",
       "    <tr>\n",
       "      <th>3957</th>\n",
       "      <td>2023-10-02</td>\n",
       "      <td>26200.000000</td>\n",
       "      <td>-100</td>\n",
       "      <td>-0.003802</td>\n",
       "      <td>26300.000000</td>\n",
       "      <td>26450.000000</td>\n",
       "      <td>26000.000000</td>\n",
       "      <td>26250.934877</td>\n",
       "      <td>11421182</td>\n",
       "      <td>299816704900</td>\n",
       "      <td>467751</td>\n",
       "      <td>11549899500</td>\n",
       "      <td>11888933</td>\n",
       "      <td>311366604400</td>\n",
       "      <td>NaN</td>\n",
       "    </tr>\n",
       "  </tbody>\n",
       "</table>\n",
       "<p>3958 rows × 15 columns</p>\n",
       "</div>"
      ],
      "text/plain": [
       "           Date         Close  THAY ĐỔI  %THAY ĐỔI            MỞ  \\\n",
       "0    2007-11-15   2641.884287    127000   0.000000   2662.686493   \n",
       "1    2007-11-16   2517.070779     -6000  -0.047300   2517.070826   \n",
       "2    2007-11-19   2392.257402     -6000  -0.049600   2392.257396   \n",
       "3    2007-11-20   2288.246210     -5000  -0.043500   2288.246205   \n",
       "4    2007-11-21   2371.455085      4000   0.036300   2184.235014   \n",
       "...         ...           ...       ...        ...           ...   \n",
       "3953 2023-09-26  26200.000000       200   0.007692  25850.000000   \n",
       "3954 2023-09-27  26500.000000       300   0.011450  26150.000000   \n",
       "3955 2023-09-28  26600.000000       100   0.003774  26600.000000   \n",
       "3956 2023-09-29  26300.000000      -300  -0.011278  26800.000000   \n",
       "3957 2023-10-02  26200.000000      -100  -0.003802  26300.000000   \n",
       "\n",
       "               CAO          THẤP         GIÁ TB   KL KHỚP       GT KHỚP  \\\n",
       "0      2704.291003   2267.443995  125542.550504   1306330  164000000000   \n",
       "1      2517.070779   2517.070779  121001.166955    248510   30070000000   \n",
       "2      2392.257402   2392.257402  114998.339973    120480   13855000000   \n",
       "3      2288.246210   2288.246210  109998.296713     58710    6458000000   \n",
       "4      2371.455085   2184.234946  107721.678936    728080   78430000000   \n",
       "...            ...           ...            ...       ...           ...   \n",
       "3953  26800.000000  25850.000000   26351.757989  30849974  812951048800   \n",
       "3954  26700.000000  26150.000000   26397.019537  20332879  536727404200   \n",
       "3955  26850.000000  26200.000000   26559.160574  16571772  440132353550   \n",
       "3956  26850.000000  26250.000000   26450.328262  15025050  397417504650   \n",
       "3957  26450.000000  26000.000000   26250.934877  11421182  299816704900   \n",
       "\n",
       "      KL THỎA THUẬN  GT THỎA THUẬN  TỔNG KHỐI LƯỢNG  TỔNG GIÁ TRỊ Unnamed: 14  \n",
       "0                 0              0          1306330  164000000000         NaN  \n",
       "1                 0              0           248510   30070000000         NaN  \n",
       "2                 0              0           120480   13855000000         NaN  \n",
       "3             50000     5500000000           108710   11958000000         NaN  \n",
       "4                 0              0           728080   78430000000         NaN  \n",
       "...             ...            ...              ...           ...         ...  \n",
       "3953         195000     5421000000         31044974  818372048800         NaN  \n",
       "3954        1961801    51596184400         22294680  588323588600         NaN  \n",
       "3955         900000    23640000000         17471772  463772353550         NaN  \n",
       "3956        1223000    32348350000         16248050  429765854650         NaN  \n",
       "3957         467751    11549899500         11888933  311366604400         NaN  \n",
       "\n",
       "[3958 rows x 15 columns]"
      ]
     },
     "execution_count": 78,
     "metadata": {},
     "output_type": "execute_result"
    }
   ],
   "source": [
    "# Import data\n",
    "df = pd.read_excel('D:/Desktop/Data Analyst/Stock Project Data Science/Data/FiinTrade_Giá_HPG_20231003 - Model.xlsx')  \n",
    "\n",
    "# Show data\n",
    "df"
   ]
  },
  {
   "cell_type": "code",
   "execution_count": 97,
   "metadata": {},
   "outputs": [
    {
     "data": {
      "image/png": "[encoded data removed]",
      "text/plain": [
       "<Figure size 1400x600 with 1 Axes>"
      ]
     },
     "metadata": {},
     "output_type": "display_data"
    }
   ],
   "source": [
    "\n",
    "\n",
    "\n",
    "# Đảm bảo cột 'Date' có định dạng datetime\n",
    "df['Date'] = pd.to_datetime(df['Date'])\n",
    "\n",
    "# Vẽ biểu đồ\n",
    "plt.figure(figsize=(10, 6))\n",
    "plt.plot(df['Date'], df['Close'], marker='o', linestyle='-', color='b', label='Close Price')\n",
    "\n",
    "plt.gcf().set_size_inches(14, 6)\n",
    "\n",
    "plt.title('History Price of HPG', fontsize=20)\n",
    "plt.xlabel('Date')\n",
    "plt.ylabel('Price')\n",
    "plt.legend()\n",
    "plt.grid(True)\n",
    "plt.show()"
   ]
  },
  {
   "attachments": {},
   "cell_type": "markdown",
   "metadata": {},
   "source": [
    "# 2, Prepare data to train"
   ]
  },
  {
   "cell_type": "code",
   "execution_count": 80,
   "metadata": {},
   "outputs": [
    {
     "data": {
      "text/plain": [
       "3167"
      ]
     },
     "execution_count": 80,
     "metadata": {},
     "output_type": "execute_result"
    }
   ],
   "source": [
    "#create a new dataframe with only the 'Close' column\n",
    "data = df.filter(['Close'])\n",
    "\n",
    "#convert the dataframe to a numpy array\n",
    "dataset = data.values\n",
    "\n",
    "#get the number of rows to train the model on\n",
    "training_data_len = math.ceil( len(dataset) * .8) # Train 80% of the data \n",
    "\n",
    "training_data_len"
   ]
  },
  {
   "cell_type": "code",
   "execution_count": 81,
   "metadata": {},
   "outputs": [
    {
     "data": {
      "text/plain": [
       "array([[0.04379508],\n",
       "       [0.04090198],\n",
       "       [0.0380089 ],\n",
       "       ...,\n",
       "       [0.59912771],\n",
       "       [0.59217392],\n",
       "       [0.58985599]])"
      ]
     },
     "execution_count": 81,
     "metadata": {},
     "output_type": "execute_result"
    }
   ],
   "source": [
    "## Scale the data\n",
    "scaler = MinMaxScaler(feature_range=(0,1)) # Range of values data only between 0 and 1\n",
    "scaled_data = scaler.fit_transform(dataset) # method to scale the data \n",
    "\n",
    "# Example: [10, 20, 30, 35, 40, 90]\n",
    "# After scaling with:\n",
    "# scaler = MinMaxScaler(feature_range=(0, 1))\n",
    "# scaled_data = scaler.fit_transform(data) ?\n",
    "# => Output :  [0  0.11111111  0.22222222  0.27777778  0.33333333  1 ]\n",
    "\n",
    "\n",
    "scaled_data "
   ]
  },
  {
   "cell_type": "code",
   "execution_count": 82,
   "metadata": {},
   "outputs": [
    {
     "name": "stdout",
     "output_type": "stream",
     "text": [
      "[array([0.04379508, 0.04090198, 0.0380089 , 0.03559799, 0.03752671,\n",
      "       0.03752671, 0.03559799, 0.03511581, 0.03318708, 0.03415144,\n",
      "       0.03415144, 0.03366926, 0.03366926, 0.03318708, 0.0327049 ,\n",
      "       0.03318708, 0.03174053, 0.02957072, 0.0274009 , 0.02788308,\n",
      "       0.02619545, 0.02643654, 0.02643654, 0.02765539, 0.02984931,\n",
      "       0.02838669, 0.02838669, 0.02887423, 0.02838669, 0.02838669,\n",
      "       0.02838669, 0.02887423, 0.029118  , 0.02936177, 0.02984931,\n",
      "       0.03058062, 0.03277455, 0.03521224, 0.0347247 , 0.03423717,\n",
      "       0.03423717, 0.03179947, 0.03374963, 0.03131193, 0.03228701,\n",
      "       0.03131193, 0.02984931, 0.02765539, 0.02789916, 0.02789916,\n",
      "       0.02814293, 0.029118  , 0.03131193, 0.03033685, 0.03179947,\n",
      "       0.03131193, 0.02984931, 0.03009308, 0.02984931, 0.02789916])]\n",
      "[0.027655386476405103]\n",
      "\n",
      "[array([0.04379508, 0.04090198, 0.0380089 , 0.03559799, 0.03752671,\n",
      "       0.03752671, 0.03559799, 0.03511581, 0.03318708, 0.03415144,\n",
      "       0.03415144, 0.03366926, 0.03366926, 0.03318708, 0.0327049 ,\n",
      "       0.03318708, 0.03174053, 0.02957072, 0.0274009 , 0.02788308,\n",
      "       0.02619545, 0.02643654, 0.02643654, 0.02765539, 0.02984931,\n",
      "       0.02838669, 0.02838669, 0.02887423, 0.02838669, 0.02838669,\n",
      "       0.02838669, 0.02887423, 0.029118  , 0.02936177, 0.02984931,\n",
      "       0.03058062, 0.03277455, 0.03521224, 0.0347247 , 0.03423717,\n",
      "       0.03423717, 0.03179947, 0.03374963, 0.03131193, 0.03228701,\n",
      "       0.03131193, 0.02984931, 0.02765539, 0.02789916, 0.02789916,\n",
      "       0.02814293, 0.029118  , 0.03131193, 0.03033685, 0.03179947,\n",
      "       0.03131193, 0.02984931, 0.03009308, 0.02984931, 0.02789916]), array([0.04090198, 0.0380089 , 0.03559799, 0.03752671, 0.03752671,\n",
      "       0.03559799, 0.03511581, 0.03318708, 0.03415144, 0.03415144,\n",
      "       0.03366926, 0.03366926, 0.03318708, 0.0327049 , 0.03318708,\n",
      "       0.03174053, 0.02957072, 0.0274009 , 0.02788308, 0.02619545,\n",
      "       0.02643654, 0.02643654, 0.02765539, 0.02984931, 0.02838669,\n",
      "       0.02838669, 0.02887423, 0.02838669, 0.02838669, 0.02838669,\n",
      "       0.02887423, 0.029118  , 0.02936177, 0.02984931, 0.03058062,\n",
      "       0.03277455, 0.03521224, 0.0347247 , 0.03423717, 0.03423717,\n",
      "       0.03179947, 0.03374963, 0.03131193, 0.03228701, 0.03131193,\n",
      "       0.02984931, 0.02765539, 0.02789916, 0.02789916, 0.02814293,\n",
      "       0.029118  , 0.03131193, 0.03033685, 0.03179947, 0.03131193,\n",
      "       0.02984931, 0.03009308, 0.02984931, 0.02789916, 0.02765539])]\n",
      "[0.027655386476405103, 0.025461459186420805]\n",
      "\n"
     ]
    }
   ],
   "source": [
    "## create the training dataset\n",
    "\n",
    "#Create the scaled training data set based on the scaled data in the previous step\n",
    "train_data = scaled_data[0:training_data_len  , : ] \n",
    "# '0:training_data_len'  means that the ROWS from the beginning to the training_data_len are selected\n",
    "#  ':'  means that ALL COLUMNS are selected.\n",
    "\n",
    "#Split the data into x_train and y_train data sets\n",
    "x_train = []\n",
    "y_train = []\n",
    "\n",
    "for i in range(60,len(train_data)):\n",
    "    x_train.append(train_data[i-60:i,0]) # 60 previous i row values in the column index = 0 - column 0 is first column\n",
    "    y_train.append(train_data[i,0]) # 61st value of the column 0 \n",
    "    if i<= 61:# print the first 61 values \n",
    "        print(x_train)\n",
    "        print(y_train)\n",
    "        print()\n"
   ]
  },
  {
   "attachments": {},
   "cell_type": "markdown",
   "metadata": {},
   "source": [
    "### Note :Build model predicts price based on last 60 days so create training dataset into parts, each part contains 60 values\n"
   ]
  },
  {
   "cell_type": "code",
   "execution_count": 83,
   "metadata": {},
   "outputs": [],
   "source": [
    "# Convert the x_train and y_train to numpy arrays\n",
    "x_train = np.array(x_train)\n",
    "y_train = np.array(y_train)"
   ]
  },
  {
   "cell_type": "code",
   "execution_count": 84,
   "metadata": {},
   "outputs": [
    {
     "data": {
      "text/plain": [
       "(3107, 60, 1)"
      ]
     },
     "execution_count": 84,
     "metadata": {},
     "output_type": "execute_result"
    }
   ],
   "source": [
    "# Reshape the data because LSTM model in 3 dimensions but numpy array in 2 dimensions\n",
    "# Convert numpy array => 3 Dimensions array\n",
    "x_train = np.reshape(x_train, (x_train.shape[0],x_train.shape[1],1)) \n",
    "#x_train.shape[0] = 4144 , x_train.shape[1] = 60 , 1 is the number of features ( only have 1 feature = 'Close')\n",
    "\n",
    "x_train.shape"
   ]
  },
  {
   "attachments": {},
   "cell_type": "markdown",
   "metadata": {},
   "source": [
    "# 3, Build and train the model"
   ]
  },
  {
   "attachments": {},
   "cell_type": "markdown",
   "metadata": {},
   "source": [
    "## Task a : Build the model"
   ]
  },
  {
   "cell_type": "code",
   "execution_count": 85,
   "metadata": {},
   "outputs": [],
   "source": [
    "## Build the LSTM model\n",
    "\n",
    "### What is LSTM?\n",
    "# LSTM là một kiểu mạng nơ-ron hồi quy (RNN) đặc biệt, được thiết kế để học các phụ thuộc xa trong dữ liệu.\n",
    "# Lớp LSTM là một loại lớp nơ ron neural network (RNN) thường được sử dụng cho các tác vụ xử lý chuỗi,\n",
    "# chẳng hạn như dự đoán chuỗi thời gian, nhận dạng giọng nói và xử lý ngôn ngữ tự nhiên.\n",
    "# Lớp LSTM có khả năng nắm bắt các phụ thuộc lâu dài trong chuỗi đầu vào\n",
    "# bằng cách cho phép thông tin được giữ lại hoặc bị lãng quên theo thời gian.\n",
    "# Điều này đạt được thông qua việc sử dụng \"TẾ BÀO BỘ NHỚ\" và \"CỔNG\",\n",
    "# kiểm soát luồng thông tin qua lớp.\n",
    "\n",
    "# Example :\n",
    "# model = Sequential()\n",
    "# model.add(LSTM(64, input_shape=(10, 1))) # LSTM layer with 64 memory cells\n",
    "# model.add(Dense(1, activation='sigmoid')) # Output layer with 1 neuron\n",
    "# Explain:\n",
    "# The LSTM layer is configured to have 64 MEMORY CELLS and an input shape of (10, 1), \n",
    "# which means it will take in a sequence of 10 time steps, each with 1 feature. \n",
    "# Finally, we add a dense OUTPUT layer with 1 neuron and a sigmoid activation function.\n",
    "\n",
    "\n",
    "#  Create the model\n",
    "model = Sequential()  \n",
    "#the Sequential class is used to define a linear stack of layers that make up a deep learning model. \n",
    "#It is a wrapper for the neural network model that provides an easy-to-use interface for creating and managing models.\n",
    "\n",
    "# Add the first LSTM layer \n",
    "model.add(LSTM(50, return_sequences=True, input_shape = (x_train.shape[1],1))) \n",
    "# 50 neurons, return_sequences = True because we have more than one LSTM layer\n",
    "# input_shape is the time step, x_train.shape[1] = 60 is the number of features, repeat 1 time\n",
    "\n",
    "# Add the second LSTM layer\n",
    "model.add(LSTM(50, return_sequences=False)) \n",
    "# 50 neurons, return_sequences = False because that layer returns only the last output in the output sequence\n",
    "\n",
    "# Add the third, four layer \n",
    "model.add(Dense(25)) # 25 neurons\n",
    "# Lớp dense nhận đầu vào từ lớp trước và áp dụng một phép biến đổi tuyến tính để tạo ra một tập hợp đầu ra mới.\n",
    "# The dense layer receives input from the previous layer \n",
    "# and applies a linear transformation to produce a new set of outputs.\n",
    "\n",
    "model.add(Dense(1)) # 1 neuron\n",
    "# This adds a final dense layer with 1 neuron. \n",
    "# This is the output layer of the model, which produces a single continuous output value\n"
   ]
  },
  {
   "cell_type": "code",
   "execution_count": 86,
   "metadata": {},
   "outputs": [],
   "source": [
    "\n",
    "# Compile the model\n",
    "model.compile(optimizer='adam', loss='mean_squared_error')\n",
    "# compile() function is used to configure the learning process of a model\n",
    "# It takes three main arguments: optimizer, loss, and metrics.\n",
    "\n",
    "# optimizer is the optimization algorithm used during training\n",
    "# 'adam' optimizer is a popular choice in deep learning \n",
    "# because it adapts the learning rate during training and works well for many problems.\n",
    "# during training, the model will use the 'adam' algorithm to optimize the weights and biases\n",
    "\n",
    "# loss argument is used to specify the loss function that the model will minimize during training. \n",
    "# The 'mean_squared_error' loss function is a common choice for regression problems, \n",
    "# the goal is to minimize the mean squared error between the predicted and actual values.\n"
   ]
  },
  {
   "attachments": {},
   "cell_type": "markdown",
   "metadata": {},
   "source": [
    "## Task b: Train the model"
   ]
  },
  {
   "cell_type": "code",
   "execution_count": 87,
   "metadata": {},
   "outputs": [
    {
     "name": "stdout",
     "output_type": "stream",
     "text": [
      "Epoch 1/2\n",
      "3107/3107 [==============================] - 130s 38ms/step - loss: 1.7655e-04\n",
      "Epoch 2/2\n",
      "3107/3107 [==============================] - 121s 39ms/step - loss: 8.2943e-05\n"
     ]
    },
    {
     "data": {
      "text/plain": [
       "<keras.callbacks.History at 0x22089c1f280>"
      ]
     },
     "execution_count": 87,
     "metadata": {},
     "output_type": "execute_result"
    }
   ],
   "source": [
    "## Train the model\n",
    "model.fit(x_train, y_train, batch_size=1, epochs=2)\n",
    "\n",
    "# model.fit() is a method trains the neural network model with the specified input data (x_train) and target data (y_train). \n",
    "# The training process involves updating the weights and biases of the model based on the input data and the output produced by the model.\n",
    "# x_train: The input data used for training the model.\n",
    "# y_train: The target data used for training the model.\n",
    "# batch_size: The number of samples processed before the model is updated\n",
    "# example: Initially the data has 120 rows, \n",
    "# batch_size=3 => You will be tranning the first 40 rows, batch_size = 2 => 60 rows\n",
    "# epochs: The number of times the model is trained on the entire dataset. \n",
    "# An epoch is considered complete when the model has processed all of the training data once."
   ]
  },
  {
   "cell_type": "code",
   "execution_count": 88,
   "metadata": {},
   "outputs": [],
   "source": [
    "# create the testing data set\n",
    "\n",
    "# Create a new array containing scaled values from index 4144( the train data shape[0]) to 5254 ( end)\n",
    "test_data = scaled_data[training_data_len - 60: , : ]\n",
    "# 'training_data_len - 60 : '  means that the ROWS from the training_data_len - 60 to end are selected\n",
    "#  ':'  means that ALL COLUMNS are selected.\n",
    "\n",
    "# Create the data sets x_test and y_test\n",
    "x_test = []\n",
    "y_test =  dataset[training_data_len : , : ]\n",
    "\n",
    "# Add value for x_test\n",
    "for i in range(60,len(test_data)):\n",
    "    x_test.append(test_data[i-60:i,0]) \n",
    "    # 60 previous i row values in the column index = '0' - column 0 is first column\n"
   ]
  },
  {
   "cell_type": "code",
   "execution_count": 89,
   "metadata": {},
   "outputs": [],
   "source": [
    "# convert the data to a numpy array\n",
    "x_test = np.array(x_test)"
   ]
  },
  {
   "cell_type": "code",
   "execution_count": 90,
   "metadata": {},
   "outputs": [],
   "source": [
    "# Reshape the numpy array to 3 dimensions\n",
    "x_test = np.reshape(x_test, (x_test.shape[0],x_test.shape[1],1))\n",
    "# 1 is the number of features ( only have 1 feature = 'Close')"
   ]
  },
  {
   "cell_type": "code",
   "execution_count": 91,
   "metadata": {},
   "outputs": [
    {
     "name": "stdout",
     "output_type": "stream",
     "text": [
      "25/25 [==============================] - 3s 24ms/step\n"
     ]
    }
   ],
   "source": [
    "# Get the models predicted price values\n",
    "\n",
    "# Predict the values\n",
    "predictions = model.predict(x_test) \n",
    "# predict function sử dụng để dự đoán đầu ra cho các mẫu đầu vào dựa trên mô hình đã được đào tạo.\n",
    "# predict() function is used to predict the output for the input samples based on the trained model.\n",
    "\n",
    "# Unscale the data\n",
    "predictions = scaler.inverse_transform(predictions) "
   ]
  },
  {
   "attachments": {},
   "cell_type": "markdown",
   "metadata": {},
   "source": [
    "# 4, Backtesting the model"
   ]
  },
  {
   "cell_type": "code",
   "execution_count": 92,
   "metadata": {},
   "outputs": [
    {
     "data": {
      "text/plain": [
       "2638.2960577815247"
      ]
     },
     "execution_count": 92,
     "metadata": {},
     "output_type": "execute_result"
    }
   ],
   "source": [
    "## Checking the average deviation between the predicted values and the actual values\n",
    "\n",
    "# Get the root mean squared error (RMSE)\n",
    "# RMSE  is a measure of the average deviation between the predicted values and the actual values in a dataset. \n",
    "# It is a commonly used evaluation metric in regression analysis, machine learning and other predictive modeling tasks.\n",
    "# Fomula: RMSE = sqrt(mean((y_pred - y_true)^2))\n",
    "rmse = np.sqrt(np.mean(((predictions - y_test) ** 2)))\n",
    "rmse"
   ]
  },
  {
   "attachments": {},
   "cell_type": "markdown",
   "metadata": {},
   "source": [
    "### The 2 way to reduce average deviation \n",
    "### Method 1: is to increase the trained data - is increase 'tranning_data_len' in part Prepare data\n",
    "### Method 2: train the data many times - is increase 'epochs'  in  ' model.fit(x_train, y_train, batch_size=1, epochs=3)'\n",
    "### But it has a certain limit - it's not that the more you run, the less deviation you get\n",
    "### Method 1 is more effective in reducing deviation than method 2\n",
    "## => WE NEED BIG DATA\n",
    "\n"
   ]
  },
  {
   "cell_type": "code",
   "execution_count": 93,
   "metadata": {},
   "outputs": [
    {
     "name": "stderr",
     "output_type": "stream",
     "text": [
      "C:\\Users\\Long\\AppData\\Local\\Temp\\ipykernel_15796\\3062225484.py:6: SettingWithCopyWarning: \n",
      "A value is trying to be set on a copy of a slice from a DataFrame.\n",
      "Try using .loc[row_indexer,col_indexer] = value instead\n",
      "\n",
      "See the caveats in the documentation: https://pandas.pydata.org/pandas-docs/stable/user_guide/indexing.html#returning-a-view-versus-a-copy\n",
      "  valid_data['Predictions'] = predictions\n"
     ]
    },
    {
     "data": {
      "image/png": "[encoded data removed]",
      "text/plain": [
       "<Figure size 1200x600 with 1 Axes>"
      ]
     },
     "metadata": {},
     "output_type": "display_data"
    }
   ],
   "source": [
    "## Visualize the data\n",
    "\n",
    "# Create the data for the graph\n",
    "train_data = data[:training_data_len] # Trained data\n",
    "valid_data = data[training_data_len:] # Valid_data use to valid the trained data\n",
    "valid_data['Predictions'] = predictions\n",
    "\n",
    "# Draw the line chart with X- axis is Date, Y- axis is Close Price of the train data \n",
    "plt.plot(train_data['Close'])\n",
    "\n",
    "# Draw the line chart with X- axis is Date, Y- axis is Close Price and Predict Price of the Predict data \n",
    "plt.plot(valid_data[['Close', 'Predictions']])\n",
    "\n",
    "# Set size for the chart\n",
    "plt.gcf().set_size_inches(12, 6)\n",
    "\n",
    "# Set title for the chart\n",
    "plt.title('Model')\n",
    "plt.xlabel('Date')\n",
    "plt.legend(['Train', 'Valid', 'Predictions'], loc='upper left') \n",
    "\n",
    "plt.show()\n"
   ]
  },
  {
   "cell_type": "code",
   "execution_count": 94,
   "metadata": {},
   "outputs": [
    {
     "data": {
      "text/html": [
       "<div>\n",
       "<style scoped>\n",
       "    .dataframe tbody tr th:only-of-type {\n",
       "        vertical-align: middle;\n",
       "    }\n",
       "\n",
       "    .dataframe tbody tr th {\n",
       "        vertical-align: top;\n",
       "    }\n",
       "\n",
       "    .dataframe thead th {\n",
       "        text-align: right;\n",
       "    }\n",
       "</style>\n",
       "<table border=\"1\" class=\"dataframe\">\n",
       "  <thead>\n",
       "    <tr style=\"text-align: right;\">\n",
       "      <th></th>\n",
       "      <th>Close</th>\n",
       "      <th>Predictions</th>\n",
       "    </tr>\n",
       "  </thead>\n",
       "  <tbody>\n",
       "    <tr>\n",
       "      <th>3167</th>\n",
       "      <td>12797.185280</td>\n",
       "      <td>11909.605469</td>\n",
       "    </tr>\n",
       "    <tr>\n",
       "      <th>3168</th>\n",
       "      <td>13409.224576</td>\n",
       "      <td>12112.165039</td>\n",
       "    </tr>\n",
       "    <tr>\n",
       "      <th>3169</th>\n",
       "      <td>13381.404608</td>\n",
       "      <td>12447.087891</td>\n",
       "    </tr>\n",
       "    <tr>\n",
       "      <th>3170</th>\n",
       "      <td>13464.864512</td>\n",
       "      <td>12683.440430</td>\n",
       "    </tr>\n",
       "    <tr>\n",
       "      <th>3171</th>\n",
       "      <td>13520.504448</td>\n",
       "      <td>12821.743164</td>\n",
       "    </tr>\n",
       "    <tr>\n",
       "      <th>...</th>\n",
       "      <td>...</td>\n",
       "      <td>...</td>\n",
       "    </tr>\n",
       "    <tr>\n",
       "      <th>3953</th>\n",
       "      <td>26200.000000</td>\n",
       "      <td>24934.437500</td>\n",
       "    </tr>\n",
       "    <tr>\n",
       "      <th>3954</th>\n",
       "      <td>26500.000000</td>\n",
       "      <td>24374.476562</td>\n",
       "    </tr>\n",
       "    <tr>\n",
       "      <th>3955</th>\n",
       "      <td>26600.000000</td>\n",
       "      <td>24260.587891</td>\n",
       "    </tr>\n",
       "    <tr>\n",
       "      <th>3956</th>\n",
       "      <td>26300.000000</td>\n",
       "      <td>24387.900391</td>\n",
       "    </tr>\n",
       "    <tr>\n",
       "      <th>3957</th>\n",
       "      <td>26200.000000</td>\n",
       "      <td>24439.390625</td>\n",
       "    </tr>\n",
       "  </tbody>\n",
       "</table>\n",
       "<p>791 rows × 2 columns</p>\n",
       "</div>"
      ],
      "text/plain": [
       "             Close   Predictions\n",
       "3167  12797.185280  11909.605469\n",
       "3168  13409.224576  12112.165039\n",
       "3169  13381.404608  12447.087891\n",
       "3170  13464.864512  12683.440430\n",
       "3171  13520.504448  12821.743164\n",
       "...            ...           ...\n",
       "3953  26200.000000  24934.437500\n",
       "3954  26500.000000  24374.476562\n",
       "3955  26600.000000  24260.587891\n",
       "3956  26300.000000  24387.900391\n",
       "3957  26200.000000  24439.390625\n",
       "\n",
       "[791 rows x 2 columns]"
      ]
     },
     "execution_count": 94,
     "metadata": {},
     "output_type": "execute_result"
    }
   ],
   "source": [
    "# Show the valid and predicted prices\n",
    "valid_data"
   ]
  },
  {
   "attachments": {},
   "cell_type": "markdown",
   "metadata": {},
   "source": [
    "# 5, Predict price for a specific day"
   ]
  },
  {
   "cell_type": "code",
   "execution_count": 98,
   "metadata": {},
   "outputs": [
    {
     "name": "stdout",
     "output_type": "stream",
     "text": [
      "1/1 [==============================] - 0s 47ms/step\n",
      "[[24419.18]]\n"
     ]
    }
   ],
   "source": [
    "## Example: Predict the price of MSFT on 2023-02-10\n",
    "\n",
    "# Import data \n",
    "df_new = pd.read_excel('D:/Desktop/Data Analyst/Stock Project Data Science/Data/FiinTrade_Giá_HPG_20231003 - Model.xlsx')   \n",
    "#create a new dataframe only with the 'Close' column\n",
    "new_data = df_new.filter(['Close'])\n",
    "# Get the last 60 day closing price values and convert the dataframe to an numpy array\n",
    "last_60_days = new_data[-60:].values\n",
    "# Scale the data to be values between 0 and 1\n",
    "last_60_days_scaled = scaler.transform(last_60_days)\n",
    "# Create an test list\n",
    "X_test = []\n",
    "# Add Close Price last 60 days to the test list\n",
    "X_test.append(last_60_days_scaled)\n",
    "# Convert the X_test dataset to a numpy array\n",
    "X_test = np.array(X_test)\n",
    "# Reshape the data => 3 dimensions array\n",
    "X_test = np.reshape(X_test, (X_test.shape[0], X_test.shape[1], 1))\n",
    "# Get the predicted scaled price\n",
    "pred_price = model.predict(X_test)\n",
    "# Undo the scaling\n",
    "pred_price = scaler.inverse_transform(pred_price)\n",
    "print(pred_price) # Print the predicted price"
   ]
  },
  {
   "cell_type": "code",
   "execution_count": 100,
   "metadata": {},
   "outputs": [
    {
     "name": "stdout",
     "output_type": "stream",
     "text": [
      "3957    26200.0\n",
      "Name: Close, dtype: float64\n"
     ]
    }
   ],
   "source": [
    "df_new['Date'] = pd.to_datetime(df_new['Date'], format='%m/%d/%Y')\n",
    "print(df_new[df_new['Date'] == '10/2/2023']['Close'])\n"
   ]
  }
 ],
 "metadata": {
  "kernelspec": {
   "display_name": "base",
   "language": "python",
   "name": "python3"
  },
  "language_info": {
   "codemirror_mode": {
    "name": "ipython",
    "version": 3
   },
   "file_extension": ".py",
   "mimetype": "text/x-python",
   "name": "python",
   "nbconvert_exporter": "python",
   "pygments_lexer": "ipython3",
   "version": "3.10.9"
  },
  "orig_nbformat": 4
 },
 "nbformat": 4,
 "nbformat_minor": 2
}
